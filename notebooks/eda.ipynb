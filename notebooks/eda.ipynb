{
 "cells": [
  {
   "cell_type": "markdown",
   "id": "b8a91dba",
   "metadata": {},
   "source": [
    "Import Python packages"
   ]
  },
  {
   "cell_type": "code",
   "execution_count": 9,
   "id": "75e255d5",
   "metadata": {},
   "outputs": [],
   "source": [
    "import pandas as pd\n",
    "import seaborn as sns\n",
    "import matplotlib.pyplot as plt"
   ]
  },
  {
   "cell_type": "markdown",
   "id": "0ecd2286",
   "metadata": {},
   "source": [
    "Import dataset"
   ]
  },
  {
   "cell_type": "code",
   "execution_count": 10,
   "id": "b6cb8565",
   "metadata": {},
   "outputs": [
    {
     "data": {
      "text/html": [
       "<div>\n",
       "<style scoped>\n",
       "    .dataframe tbody tr th:only-of-type {\n",
       "        vertical-align: middle;\n",
       "    }\n",
       "\n",
       "    .dataframe tbody tr th {\n",
       "        vertical-align: top;\n",
       "    }\n",
       "\n",
       "    .dataframe thead th {\n",
       "        text-align: right;\n",
       "    }\n",
       "</style>\n",
       "<table border=\"1\" class=\"dataframe\">\n",
       "  <thead>\n",
       "    <tr style=\"text-align: right;\">\n",
       "      <th></th>\n",
       "      <th>name</th>\n",
       "      <th>year</th>\n",
       "      <th>poverty-rate</th>\n",
       "      <th>median-household-income</th>\n",
       "      <th>rent-burden</th>\n",
       "      <th>pct-white</th>\n",
       "      <th>households-threatened</th>\n",
       "      <th>eviction-filing-rate</th>\n",
       "      <th>total-crime</th>\n",
       "    </tr>\n",
       "  </thead>\n",
       "  <tbody>\n",
       "    <tr>\n",
       "      <th>0</th>\n",
       "      <td>Baltimore City</td>\n",
       "      <td>2000</td>\n",
       "      <td>22.92</td>\n",
       "      <td>30078</td>\n",
       "      <td>26.9</td>\n",
       "      <td>30.96</td>\n",
       "      <td>58207.75</td>\n",
       "      <td>124.17</td>\n",
       "      <td>66791</td>\n",
       "    </tr>\n",
       "    <tr>\n",
       "      <th>1</th>\n",
       "      <td>Baltimore City</td>\n",
       "      <td>2001</td>\n",
       "      <td>22.92</td>\n",
       "      <td>30078</td>\n",
       "      <td>26.9</td>\n",
       "      <td>30.96</td>\n",
       "      <td>52564.67</td>\n",
       "      <td>111.08</td>\n",
       "      <td>64453</td>\n",
       "    </tr>\n",
       "    <tr>\n",
       "      <th>2</th>\n",
       "      <td>Baltimore City</td>\n",
       "      <td>2002</td>\n",
       "      <td>22.92</td>\n",
       "      <td>30078</td>\n",
       "      <td>26.9</td>\n",
       "      <td>30.96</td>\n",
       "      <td>57183.58</td>\n",
       "      <td>121.05</td>\n",
       "      <td>56550</td>\n",
       "    </tr>\n",
       "    <tr>\n",
       "      <th>3</th>\n",
       "      <td>Baltimore City</td>\n",
       "      <td>2003</td>\n",
       "      <td>22.92</td>\n",
       "      <td>30078</td>\n",
       "      <td>26.9</td>\n",
       "      <td>30.96</td>\n",
       "      <td>57039.41</td>\n",
       "      <td>116.82</td>\n",
       "      <td>49263</td>\n",
       "    </tr>\n",
       "    <tr>\n",
       "      <th>4</th>\n",
       "      <td>Baltimore City</td>\n",
       "      <td>2004</td>\n",
       "      <td>22.92</td>\n",
       "      <td>30078</td>\n",
       "      <td>26.9</td>\n",
       "      <td>30.96</td>\n",
       "      <td>60221.48</td>\n",
       "      <td>109.42</td>\n",
       "      <td>48314</td>\n",
       "    </tr>\n",
       "  </tbody>\n",
       "</table>\n",
       "</div>"
      ],
      "text/plain": [
       "             name  year  poverty-rate  median-household-income  rent-burden  \\\n",
       "0  Baltimore City  2000         22.92                    30078         26.9   \n",
       "1  Baltimore City  2001         22.92                    30078         26.9   \n",
       "2  Baltimore City  2002         22.92                    30078         26.9   \n",
       "3  Baltimore City  2003         22.92                    30078         26.9   \n",
       "4  Baltimore City  2004         22.92                    30078         26.9   \n",
       "\n",
       "   pct-white  households-threatened  eviction-filing-rate  total-crime  \n",
       "0      30.96               58207.75                124.17        66791  \n",
       "1      30.96               52564.67                111.08        64453  \n",
       "2      30.96               57183.58                121.05        56550  \n",
       "3      30.96               57039.41                116.82        49263  \n",
       "4      30.96               60221.48                109.42        48314  "
      ]
     },
     "execution_count": 10,
     "metadata": {},
     "output_type": "execute_result"
    }
   ],
   "source": [
    "df = pd.read_csv(\"C:/Users/trung/CCDS/data/processed/df.csv\")\n",
    "\n",
    "df.head(5)"
   ]
  },
  {
   "cell_type": "markdown",
   "id": "9703c51e",
   "metadata": {},
   "source": [
    "Split df into two dataframes, metropolitan df and non-metropolitan df"
   ]
  },
  {
   "cell_type": "code",
   "execution_count": 12,
   "id": "dad8d3d7",
   "metadata": {},
   "outputs": [
    {
     "name": "stdout",
     "output_type": "stream",
     "text": [
      "Target counties: ['Frederick County' \"Prince George's County\" 'Montgomery County']\n",
      "Other counties: 21 other counties\n"
     ]
    }
   ],
   "source": [
    "\"\"\"\n",
    "Metropolitan dataframe consists Frederick, Prince George's, and Montgomery jurisdiction. \n",
    "Non-metropolitan dataframe consists of the other 21 jurisdictions.\n",
    "\"\"\"\n",
    "# metropolitan jurisdictions names\n",
    "metro_juris = [\"Frederick County\", \"Prince George's County\", \"Montgomery County\"]\n",
    "\n",
    "# DataFrame with only the 3 counties\n",
    "df_metro = df[df['name'].isin(metro_juris)]\n",
    "\n",
    "# DataFrame with the rest\n",
    "df_nonmetro = df[~df['name'].isin(metro_juris)]\n",
    "\n",
    "# Optional: reset index for clarity\n",
    "df_metro = df_metro.reset_index(drop=True)\n",
    "df_nonmetro = df_nonmetro.reset_index(drop=True)\n",
    "\n",
    "# Check counts\n",
    "print(\"Target counties:\", df_metro['name'].unique())\n",
    "print(\"Other counties:\", df_nonmetro['name'].nunique(), \"other counties\")\n"
   ]
  },
  {
   "cell_type": "markdown",
   "id": "b85a80ec",
   "metadata": {},
   "source": [
    "Univariate Analysis"
   ]
  },
  {
   "cell_type": "code",
   "execution_count": null,
   "id": "ebdca7e8",
   "metadata": {},
   "outputs": [],
   "source": []
  }
 ],
 "metadata": {
  "kernelspec": {
   "display_name": "Python 3",
   "language": "python",
   "name": "python3"
  },
  "language_info": {
   "codemirror_mode": {
    "name": "ipython",
    "version": 3
   },
   "file_extension": ".py",
   "mimetype": "text/x-python",
   "name": "python",
   "nbconvert_exporter": "python",
   "pygments_lexer": "ipython3",
   "version": "3.11.9"
  }
 },
 "nbformat": 4,
 "nbformat_minor": 5
}
