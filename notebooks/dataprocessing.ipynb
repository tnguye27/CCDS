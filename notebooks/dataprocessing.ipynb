{
 "cells": [
  {
   "cell_type": "markdown",
   "id": "5a9dc907",
   "metadata": {},
   "source": [
    "Import Python packages"
   ]
  },
  {
   "cell_type": "code",
   "execution_count": 48,
   "id": "fc5d6b9a",
   "metadata": {},
   "outputs": [],
   "source": [
    "import pandas as pd"
   ]
  },
  {
   "cell_type": "markdown",
   "id": "0c62fd7a",
   "metadata": {},
   "source": [
    "Import datasets"
   ]
  },
  {
   "cell_type": "code",
   "execution_count": 49,
   "id": "61ede8b0",
   "metadata": {},
   "outputs": [],
   "source": [
    "# import jurisdiction data \n",
    "balcityharfcecil = pd.read_excel(\"C:/Users/trung/CCDS/data/raw/balcityharfcecil.xlsx\")\n",
    "charlesaarundelcalvert = pd.read_excel(\"C:/Users/trung/CCDS/data/raw/charlesaarundelcalvert.xlsx\")\n",
    "dorstmarytalbot = pd.read_excel(\"C:/Users/trung/CCDS/data/raw/dorstmarytalbot.xlsx\")\n",
    "fredcarhow = pd.read_excel(\"C:/Users/trung/CCDS/data/raw/fredcarhow.xlsx\")\n",
    "garrettalleganywash = pd.read_excel(\"C:/Users/trung/CCDS/data/raw/garrettalleganywash.xlsx\")\n",
    "kentqacaroline = pd.read_excel(\"C:/Users/trung/CCDS/data/raw/kentqacaroline.xlsx\")\n",
    "pgmontbalcoun = pd.read_excel(\"C:/Users/trung/CCDS/data/raw/pgmontbalcoun.xlsx\")\n",
    "wicosomerwor = pd.read_excel(\"C:/Users/trung/CCDS/data/raw/wicosomerwor.xlsx\")"
   ]
  },
  {
   "cell_type": "code",
   "execution_count": 50,
   "id": "32930394",
   "metadata": {},
   "outputs": [],
   "source": [
    "# import crime data\n",
    "crime = pd.read_csv(\"C:/Users/trung/CCDS/inst414/crime.csv\")"
   ]
  },
  {
   "cell_type": "markdown",
   "id": "a16bf43f",
   "metadata": {},
   "source": [
    "Data processing"
   ]
  },
  {
   "cell_type": "code",
   "execution_count": 51,
   "id": "83f998f0",
   "metadata": {},
   "outputs": [],
   "source": [
    "# merge jurisdiction data into one dataframe\n",
    "df_list = [balcityharfcecil, charlesaarundelcalvert, dorstmarytalbot, dorstmarytalbot, garrettalleganywash, kentqacaroline, pgmontbalcoun, wicosomerwor]\n",
    "\n",
    "df_merged = pd.concat(df_list, ignore_index=False)"
   ]
  },
  {
   "cell_type": "code",
   "execution_count": 52,
   "id": "4dc53018",
   "metadata": {},
   "outputs": [],
   "source": [
    "# keep only name, year, poverty-rate, median-household-income, rent-burden, pct-white, household-threatened, eviction-filing-rate\n",
    "keep_df_cols = ['name', 'year', 'poverty-rate', 'median-household-income', 'rent-burden', 'pct-white', 'households-threatened', 'eviction-filing-rate']\n",
    "\n",
    "df_merged = df_merged[keep_df_cols]"
   ]
  },
  {
   "cell_type": "code",
   "execution_count": 53,
   "id": "71dc9745",
   "metadata": {},
   "outputs": [],
   "source": [
    "# filter crime dataframe to only include year 2000-2018\n",
    "crime = crime[(crime['YEAR'] >= 2000) & (crime['YEAR'] <= 2018)]"
   ]
  },
  {
   "cell_type": "code",
   "execution_count": 54,
   "id": "c3ab35b2",
   "metadata": {},
   "outputs": [],
   "source": [
    "# keep only jurisdiction and rename to county name (\"name\"), lowercase year and grand total crime count\n",
    "keep_crime_cols = ['JURISDICTION', 'YEAR', 'GRAND TOTAL']\n",
    "\n",
    "crime = crime[keep_crime_cols]\n",
    "crime.columns = crime.columns.str.lower()\n",
    "crime.rename(columns={'jurisdiction': 'name'}, inplace=True)\n"
   ]
  },
  {
   "cell_type": "code",
   "execution_count": 55,
   "id": "7e10619d",
   "metadata": {},
   "outputs": [],
   "source": [
    "# merge df_merged and crime into one dataframe. This is the final dataframe to use\n",
    "df = pd.merge(left=df_merged, right=crime, on=['name', 'year'], how='left')"
   ]
  },
  {
   "cell_type": "code",
   "execution_count": 56,
   "id": "7cb70214",
   "metadata": {},
   "outputs": [
    {
     "data": {
      "text/html": [
       "<div>\n",
       "<style scoped>\n",
       "    .dataframe tbody tr th:only-of-type {\n",
       "        vertical-align: middle;\n",
       "    }\n",
       "\n",
       "    .dataframe tbody tr th {\n",
       "        vertical-align: top;\n",
       "    }\n",
       "\n",
       "    .dataframe thead th {\n",
       "        text-align: right;\n",
       "    }\n",
       "</style>\n",
       "<table border=\"1\" class=\"dataframe\">\n",
       "  <thead>\n",
       "    <tr style=\"text-align: right;\">\n",
       "      <th></th>\n",
       "      <th>name</th>\n",
       "      <th>year</th>\n",
       "      <th>poverty-rate</th>\n",
       "      <th>median-household-income</th>\n",
       "      <th>rent-burden</th>\n",
       "      <th>pct-white</th>\n",
       "      <th>households-threatened</th>\n",
       "      <th>eviction-filing-rate</th>\n",
       "      <th>grand total</th>\n",
       "    </tr>\n",
       "  </thead>\n",
       "  <tbody>\n",
       "    <tr>\n",
       "      <th>0</th>\n",
       "      <td>Baltimore City</td>\n",
       "      <td>2000</td>\n",
       "      <td>22.92</td>\n",
       "      <td>30078</td>\n",
       "      <td>26.9</td>\n",
       "      <td>30.96</td>\n",
       "      <td>58207.75</td>\n",
       "      <td>124.17</td>\n",
       "      <td>66791</td>\n",
       "    </tr>\n",
       "    <tr>\n",
       "      <th>1</th>\n",
       "      <td>Baltimore City</td>\n",
       "      <td>2001</td>\n",
       "      <td>22.92</td>\n",
       "      <td>30078</td>\n",
       "      <td>26.9</td>\n",
       "      <td>30.96</td>\n",
       "      <td>52564.67</td>\n",
       "      <td>111.08</td>\n",
       "      <td>64453</td>\n",
       "    </tr>\n",
       "    <tr>\n",
       "      <th>2</th>\n",
       "      <td>Baltimore City</td>\n",
       "      <td>2002</td>\n",
       "      <td>22.92</td>\n",
       "      <td>30078</td>\n",
       "      <td>26.9</td>\n",
       "      <td>30.96</td>\n",
       "      <td>57183.58</td>\n",
       "      <td>121.05</td>\n",
       "      <td>56550</td>\n",
       "    </tr>\n",
       "    <tr>\n",
       "      <th>3</th>\n",
       "      <td>Baltimore City</td>\n",
       "      <td>2003</td>\n",
       "      <td>22.92</td>\n",
       "      <td>30078</td>\n",
       "      <td>26.9</td>\n",
       "      <td>30.96</td>\n",
       "      <td>57039.41</td>\n",
       "      <td>116.82</td>\n",
       "      <td>49263</td>\n",
       "    </tr>\n",
       "    <tr>\n",
       "      <th>4</th>\n",
       "      <td>Baltimore City</td>\n",
       "      <td>2004</td>\n",
       "      <td>22.92</td>\n",
       "      <td>30078</td>\n",
       "      <td>26.9</td>\n",
       "      <td>30.96</td>\n",
       "      <td>60221.48</td>\n",
       "      <td>109.42</td>\n",
       "      <td>48314</td>\n",
       "    </tr>\n",
       "    <tr>\n",
       "      <th>...</th>\n",
       "      <td>...</td>\n",
       "      <td>...</td>\n",
       "      <td>...</td>\n",
       "      <td>...</td>\n",
       "      <td>...</td>\n",
       "      <td>...</td>\n",
       "      <td>...</td>\n",
       "      <td>...</td>\n",
       "      <td>...</td>\n",
       "    </tr>\n",
       "    <tr>\n",
       "      <th>451</th>\n",
       "      <td>Worcester County</td>\n",
       "      <td>2014</td>\n",
       "      <td>7.65</td>\n",
       "      <td>56773</td>\n",
       "      <td>31.5</td>\n",
       "      <td>79.97</td>\n",
       "      <td>777.98</td>\n",
       "      <td>17.29</td>\n",
       "      <td>2427</td>\n",
       "    </tr>\n",
       "    <tr>\n",
       "      <th>452</th>\n",
       "      <td>Worcester County</td>\n",
       "      <td>2015</td>\n",
       "      <td>7.65</td>\n",
       "      <td>56773</td>\n",
       "      <td>31.5</td>\n",
       "      <td>79.97</td>\n",
       "      <td>484.02</td>\n",
       "      <td>10.03</td>\n",
       "      <td>2008</td>\n",
       "    </tr>\n",
       "    <tr>\n",
       "      <th>453</th>\n",
       "      <td>Worcester County</td>\n",
       "      <td>2016</td>\n",
       "      <td>6.41</td>\n",
       "      <td>61145</td>\n",
       "      <td>30.7</td>\n",
       "      <td>80.08</td>\n",
       "      <td>727.82</td>\n",
       "      <td>15.95</td>\n",
       "      <td>1987</td>\n",
       "    </tr>\n",
       "    <tr>\n",
       "      <th>454</th>\n",
       "      <td>Worcester County</td>\n",
       "      <td>2017</td>\n",
       "      <td>6.41</td>\n",
       "      <td>61145</td>\n",
       "      <td>30.7</td>\n",
       "      <td>80.08</td>\n",
       "      <td>679.52</td>\n",
       "      <td>14.51</td>\n",
       "      <td>1950</td>\n",
       "    </tr>\n",
       "    <tr>\n",
       "      <th>455</th>\n",
       "      <td>Worcester County</td>\n",
       "      <td>2018</td>\n",
       "      <td>6.41</td>\n",
       "      <td>61145</td>\n",
       "      <td>30.7</td>\n",
       "      <td>80.08</td>\n",
       "      <td>775.47</td>\n",
       "      <td>16.69</td>\n",
       "      <td>1551</td>\n",
       "    </tr>\n",
       "  </tbody>\n",
       "</table>\n",
       "<p>456 rows × 9 columns</p>\n",
       "</div>"
      ],
      "text/plain": [
       "                 name  year  poverty-rate  median-household-income  \\\n",
       "0      Baltimore City  2000         22.92                    30078   \n",
       "1      Baltimore City  2001         22.92                    30078   \n",
       "2      Baltimore City  2002         22.92                    30078   \n",
       "3      Baltimore City  2003         22.92                    30078   \n",
       "4      Baltimore City  2004         22.92                    30078   \n",
       "..                ...   ...           ...                      ...   \n",
       "451  Worcester County  2014          7.65                    56773   \n",
       "452  Worcester County  2015          7.65                    56773   \n",
       "453  Worcester County  2016          6.41                    61145   \n",
       "454  Worcester County  2017          6.41                    61145   \n",
       "455  Worcester County  2018          6.41                    61145   \n",
       "\n",
       "     rent-burden  pct-white  households-threatened  eviction-filing-rate  \\\n",
       "0           26.9      30.96               58207.75                124.17   \n",
       "1           26.9      30.96               52564.67                111.08   \n",
       "2           26.9      30.96               57183.58                121.05   \n",
       "3           26.9      30.96               57039.41                116.82   \n",
       "4           26.9      30.96               60221.48                109.42   \n",
       "..           ...        ...                    ...                   ...   \n",
       "451         31.5      79.97                 777.98                 17.29   \n",
       "452         31.5      79.97                 484.02                 10.03   \n",
       "453         30.7      80.08                 727.82                 15.95   \n",
       "454         30.7      80.08                 679.52                 14.51   \n",
       "455         30.7      80.08                 775.47                 16.69   \n",
       "\n",
       "     grand total  \n",
       "0          66791  \n",
       "1          64453  \n",
       "2          56550  \n",
       "3          49263  \n",
       "4          48314  \n",
       "..           ...  \n",
       "451         2427  \n",
       "452         2008  \n",
       "453         1987  \n",
       "454         1950  \n",
       "455         1551  \n",
       "\n",
       "[456 rows x 9 columns]"
      ]
     },
     "execution_count": 56,
     "metadata": {},
     "output_type": "execute_result"
    }
   ],
   "source": [
    "df"
   ]
  },
  {
   "cell_type": "code",
   "execution_count": 57,
   "id": "072ad455",
   "metadata": {},
   "outputs": [
    {
     "name": "stdout",
     "output_type": "stream",
     "text": [
      "<class 'pandas.core.frame.DataFrame'>\n",
      "RangeIndex: 456 entries, 0 to 455\n",
      "Data columns (total 9 columns):\n",
      " #   Column                   Non-Null Count  Dtype  \n",
      "---  ------                   --------------  -----  \n",
      " 0   name                     456 non-null    object \n",
      " 1   year                     456 non-null    int64  \n",
      " 2   poverty-rate             456 non-null    float64\n",
      " 3   median-household-income  456 non-null    int64  \n",
      " 4   rent-burden              456 non-null    float64\n",
      " 5   pct-white                456 non-null    float64\n",
      " 6   households-threatened    456 non-null    float64\n",
      " 7   eviction-filing-rate     456 non-null    float64\n",
      " 8   grand total              456 non-null    int64  \n",
      "dtypes: float64(5), int64(3), object(1)\n",
      "memory usage: 32.2+ KB\n"
     ]
    }
   ],
   "source": [
    "# check for data type and null values\n",
    "df.info()"
   ]
  },
  {
   "cell_type": "code",
   "execution_count": 58,
   "id": "72a44cad",
   "metadata": {},
   "outputs": [],
   "source": [
    "# saving df\n",
    "df.to_csv(r\"C:/Users/trung/CCDS/data/processed/df.csv\", index=False)\n"
   ]
  },
  {
   "cell_type": "code",
   "execution_count": null,
   "id": "bdb73db0",
   "metadata": {},
   "outputs": [],
   "source": []
  }
 ],
 "metadata": {
  "kernelspec": {
   "display_name": "Python 3",
   "language": "python",
   "name": "python3"
  },
  "language_info": {
   "codemirror_mode": {
    "name": "ipython",
    "version": 3
   },
   "file_extension": ".py",
   "mimetype": "text/x-python",
   "name": "python",
   "nbconvert_exporter": "python",
   "pygments_lexer": "ipython3",
   "version": "3.11.9"
  }
 },
 "nbformat": 4,
 "nbformat_minor": 5
}
