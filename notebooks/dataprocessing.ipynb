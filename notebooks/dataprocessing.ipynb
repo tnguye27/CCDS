{
 "cells": [
  {
   "cell_type": "markdown",
   "id": "5a9dc907",
   "metadata": {},
   "source": [
    "Import Python packages"
   ]
  },
  {
   "cell_type": "code",
   "execution_count": 29,
   "id": "fc5d6b9a",
   "metadata": {},
   "outputs": [],
   "source": [
    "import pandas as pd"
   ]
  },
  {
   "cell_type": "markdown",
   "id": "0c62fd7a",
   "metadata": {},
   "source": [
    "Import datasets"
   ]
  },
  {
   "cell_type": "code",
   "execution_count": 30,
   "id": "61ede8b0",
   "metadata": {},
   "outputs": [],
   "source": [
    "# import jurisdiction data \n",
    "balcityharfcecil = pd.read_excel(\"C:/Users/trung/CCDS/data/raw/balcityharfcecil.xlsx\")\n",
    "charlesaarundelcalvert = pd.read_excel(\"C:/Users/trung/CCDS/data/raw/charlesaarundelcalvert.xlsx\")\n",
    "dorstmarytalbot = pd.read_excel(\"C:/Users/trung/CCDS/data/raw/dorstmarytalbot.xlsx\")\n",
    "fredcarhow = pd.read_excel(\"C:/Users/trung/CCDS/data/raw/fredcarhow.xlsx\")\n",
    "garrettalleganywash = pd.read_excel(\"C:/Users/trung/CCDS/data/raw/garrettalleganywash.xlsx\")\n",
    "kentqacaroline = pd.read_excel(\"C:/Users/trung/CCDS/data/raw/kentqacaroline.xlsx\")\n",
    "pgmontbalcoun = pd.read_excel(\"C:/Users/trung/CCDS/data/raw/pgmontbalcoun.xlsx\")\n",
    "wicosomerwor = pd.read_excel(\"C:/Users/trung/CCDS/data/raw/wicosomerwor.xlsx\")"
   ]
  },
  {
   "cell_type": "code",
   "execution_count": 31,
   "id": "32930394",
   "metadata": {},
   "outputs": [],
   "source": [
    "# import crime data\n",
    "crime = pd.read_csv(\"C:/Users/trung/CCDS/data/raw/crime.csv\")"
   ]
  },
  {
   "cell_type": "markdown",
   "id": "a16bf43f",
   "metadata": {},
   "source": [
    "Data processing"
   ]
  },
  {
   "cell_type": "code",
   "execution_count": 32,
   "id": "83f998f0",
   "metadata": {},
   "outputs": [],
   "source": [
    "# merge jurisdiction data into one dataframe\n",
    "df_list = [balcityharfcecil, charlesaarundelcalvert, dorstmarytalbot, fredcarhow, garrettalleganywash, kentqacaroline, pgmontbalcoun, wicosomerwor]\n",
    "\n",
    "df_merged = pd.concat(df_list, ignore_index=False)"
   ]
  },
  {
   "cell_type": "code",
   "execution_count": 33,
   "id": "4dc53018",
   "metadata": {},
   "outputs": [],
   "source": [
    "# keep only name, year, poverty-rate, median-household-income, rent-burden, pct-white, household-threatened, eviction-filing-rate\n",
    "keep_df_cols = ['name', 'year', 'poverty-rate', 'median-household-income', 'rent-burden', 'pct-white', 'households-threatened', 'eviction-filing-rate']\n",
    "\n",
    "df_merged = df_merged[keep_df_cols]"
   ]
  },
  {
   "cell_type": "code",
   "execution_count": 34,
   "id": "cd09e946",
   "metadata": {},
   "outputs": [
    {
     "data": {
      "text/plain": [
       "array(['Baltimore City', 'Harford County', 'Cecil County',\n",
       "       'Charles County', 'Calvert County', 'Anne Arundel County',\n",
       "       'Dorchester County', 'Talbot County', \"St. Mary's County\",\n",
       "       'Frederick County', 'Carroll County', 'Howard County',\n",
       "       'Garrett County', 'Allegany County', 'Washington County',\n",
       "       'Kent County', \"Queen Anne's County\", 'Caroline County',\n",
       "       \"Prince George's County\", 'Baltimore County', 'Montgomery County',\n",
       "       'Wicomico County', 'Somerset County', 'Worcester County'],\n",
       "      dtype=object)"
      ]
     },
     "execution_count": 34,
     "metadata": {},
     "output_type": "execute_result"
    }
   ],
   "source": [
    "df_merged.name.unique()"
   ]
  },
  {
   "cell_type": "code",
   "execution_count": 35,
   "id": "71dc9745",
   "metadata": {},
   "outputs": [],
   "source": [
    "# filter crime dataframe to only include year 2000-2018\n",
    "crime = crime[(crime['YEAR'] >= 2000) & (crime['YEAR'] <= 2018)]"
   ]
  },
  {
   "cell_type": "code",
   "execution_count": 36,
   "id": "c3ab35b2",
   "metadata": {},
   "outputs": [],
   "source": [
    "# keep only jurisdiction and rename to county name (\"name\"), lowercase year and grand total crime count\n",
    "keep_crime_cols = ['JURISDICTION', 'YEAR', 'GRAND TOTAL']\n",
    "\n",
    "crime = crime[keep_crime_cols]\n",
    "crime.columns = crime.columns.str.lower()\n",
    "crime.rename(columns={'jurisdiction': 'name',\n",
    "                      'grand total': 'total-crime'\n",
    "                      }, inplace=True)\n"
   ]
  },
  {
   "cell_type": "code",
   "execution_count": 37,
   "id": "7e10619d",
   "metadata": {},
   "outputs": [],
   "source": [
    "# merge df_merged and crime into one dataframe. This is the final dataframe to use\n",
    "df = pd.merge(left=df_merged, right=crime, on=['name', 'year'], how='left')"
   ]
  },
  {
   "cell_type": "code",
   "execution_count": 38,
   "id": "072ad455",
   "metadata": {},
   "outputs": [
    {
     "name": "stdout",
     "output_type": "stream",
     "text": [
      "<class 'pandas.core.frame.DataFrame'>\n",
      "RangeIndex: 456 entries, 0 to 455\n",
      "Data columns (total 9 columns):\n",
      " #   Column                   Non-Null Count  Dtype  \n",
      "---  ------                   --------------  -----  \n",
      " 0   name                     456 non-null    object \n",
      " 1   year                     456 non-null    int64  \n",
      " 2   poverty-rate             456 non-null    float64\n",
      " 3   median-household-income  456 non-null    int64  \n",
      " 4   rent-burden              456 non-null    float64\n",
      " 5   pct-white                456 non-null    float64\n",
      " 6   households-threatened    456 non-null    float64\n",
      " 7   eviction-filing-rate     456 non-null    float64\n",
      " 8   total-crime              456 non-null    int64  \n",
      "dtypes: float64(5), int64(3), object(1)\n",
      "memory usage: 32.2+ KB\n"
     ]
    }
   ],
   "source": [
    "# check for data type and null values\n",
    "df.info()"
   ]
  },
  {
   "cell_type": "code",
   "execution_count": 39,
   "id": "1317b29a",
   "metadata": {},
   "outputs": [
    {
     "data": {
      "text/plain": [
       "array(['Baltimore City', 'Harford County', 'Cecil County',\n",
       "       'Charles County', 'Calvert County', 'Anne Arundel County',\n",
       "       'Dorchester County', 'Talbot County', \"St. Mary's County\",\n",
       "       'Frederick County', 'Carroll County', 'Howard County',\n",
       "       'Garrett County', 'Allegany County', 'Washington County',\n",
       "       'Kent County', \"Queen Anne's County\", 'Caroline County',\n",
       "       \"Prince George's County\", 'Baltimore County', 'Montgomery County',\n",
       "       'Wicomico County', 'Somerset County', 'Worcester County'],\n",
       "      dtype=object)"
      ]
     },
     "execution_count": 39,
     "metadata": {},
     "output_type": "execute_result"
    }
   ],
   "source": [
    "df.name.unique()"
   ]
  },
  {
   "cell_type": "code",
   "execution_count": 40,
   "id": "72a44cad",
   "metadata": {},
   "outputs": [],
   "source": [
    "# saving df\n",
    "df.to_csv(r\"C:/Users/trung/CCDS/data/processed/df.csv\", index=False)\n"
   ]
  }
 ],
 "metadata": {
  "kernelspec": {
   "display_name": "Python 3",
   "language": "python",
   "name": "python3"
  },
  "language_info": {
   "codemirror_mode": {
    "name": "ipython",
    "version": 3
   },
   "file_extension": ".py",
   "mimetype": "text/x-python",
   "name": "python",
   "nbconvert_exporter": "python",
   "pygments_lexer": "ipython3",
   "version": "3.11.9"
  }
 },
 "nbformat": 4,
 "nbformat_minor": 5
}
